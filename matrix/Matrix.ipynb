{
 "cells": [
  {
   "cell_type": "markdown",
   "metadata": {},
   "source": [
    "# Matrix operations"
   ]
  },
  {
   "cell_type": "markdown",
   "metadata": {},
   "source": [
    "## 1. Create Matrix. Создание матриц\n",
    "\n",
    "### numpy.array(list, dtype=None, ...)."
   ]
  },
  {
   "cell_type": "code",
   "execution_count": 2,
   "metadata": {
    "collapsed": false
   },
   "outputs": [
    {
     "name": "stdout",
     "output_type": "stream",
     "text": [
      "<type 'numpy.ndarray'>\n",
      "a =\n",
      "[[1 2 3]\n",
      " [2 5 6]\n",
      " [6 7 4]]\n",
      "len(a) = 3\n",
      "a.shape = (3L, 3L)\n"
     ]
    }
   ],
   "source": [
    "import numpy as np\n",
    "a = np.array([[1, 2, 3], [2, 5, 6], [6, 7, 4]])\n",
    "print type(a)\n",
    "print \"a =\\n\", a\n",
    "print \"len(a) =\",len(a)\n",
    "print \"a.shape =\",a.shape"
   ]
  },
  {
   "cell_type": "code",
   "execution_count": 3,
   "metadata": {
    "collapsed": false
   },
   "outputs": [
    {
     "name": "stdout",
     "output_type": "stream",
     "text": [
      "<type 'list'>\n",
      "matrix = [[1, 2, 4], [3, 1, 0]]\n",
      "len(matrix) = 2\n",
      "matrix[0] = [1, 2, 4]\n",
      "matrix[1] = [3, 1, 0]\n",
      "matrix[0][2] = 4\n"
     ]
    }
   ],
   "source": [
    "matrix = [[1, 2, 4], [3, 1, 0]]\n",
    "print type(matrix)\n",
    "print \"matrix =\",matrix\n",
    "print \"len(matrix) =\", len(matrix)\n",
    "#print \"matrix.shape =\", matrix.shape\n",
    "#AttributeError: 'list' object has no attribute 'shape'\n",
    "print \"matrix[0] =\", matrix[0]\n",
    "print \"matrix[1] =\", matrix[1]\n",
    "print \"matrix[0][2] =\", matrix[0][2]"
   ]
  },
  {
   "cell_type": "code",
   "execution_count": 4,
   "metadata": {
    "collapsed": false
   },
   "outputs": [
    {
     "name": "stdout",
     "output_type": "stream",
     "text": [
      "<type 'numpy.ndarray'>\n",
      "nd_array =\n",
      "[[1 2 4]\n",
      " [3 1 0]]\n",
      "len(nd_array)= 2\n",
      "nd_array.shape = (2L, 3L)\n"
     ]
    }
   ],
   "source": [
    "nd_array = np.array(matrix)\n",
    "print type(np.array(matrix))\n",
    "print \"nd_array =\\n\",nd_array\n",
    "print \"len(nd_array)=\",len(nd_array)\n",
    "print \"nd_array.shape =\",nd_array.shape"
   ]
  },
  {
   "cell_type": "markdown",
   "metadata": {},
   "source": [
    "### numpy.eye(N, M=None, ...)\n",
    "### numpy.zeros(shape, ...)\n",
    "### numpy.ones(shape, ...)\n",
    "\n",
    "0. __numpy.eye(N, M=None, ...)__ создает единичную матрицу размера $N \\times M$; если $M$ не задан, то $M = N$. \n",
    "0. __numpy.zeros(shape, ...)__ создают матрицы, состоящие целиком из нулей.\n",
    "0. __numpy.ones(shape, ...)__  создают матрицы, состоящие целиком из единиц.\n",
    "\n",
    "В качестве первого аргумента необходимо задать размерность массива — кортеж целых чисел. В двумерном случае это набор из двух чисел: количество строк и столбцов матрицы.\n"
   ]
  },
  {
   "cell_type": "code",
   "execution_count": 5,
   "metadata": {
    "collapsed": false
   },
   "outputs": [
    {
     "name": "stdout",
     "output_type": "stream",
     "text": [
      "<type 'numpy.ndarray'>\n",
      "eye 1 =\n",
      "[[ 1.  0.  0.]\n",
      " [ 0.  1.  0.]\n",
      " [ 0.  0.  1.]]\n",
      "len(eye1)= 3\n",
      "eye1.shape = (3L, 3L)\n"
     ]
    }
   ],
   "source": [
    "eye1 = np.eye(3)\n",
    "print type(eye1)\n",
    "print \"eye 1 =\\n\", eye1\n",
    "print \"len(eye1)=\",len(eye1)\n",
    "print \"eye1.shape =\",eye1.shape"
   ]
  },
  {
   "cell_type": "markdown",
   "metadata": {},
   "source": [
    "__Обратите внимание: размерность массива задается не двумя аргументами функции, а одним — кортежем!__ \n",
    "\n",
    "Вот так —  __`np.ones(2, 3)`__ — создать массив не получится, так как функции в качестве параметра `shape` передается `2`, а не кортеж `(2, 3)`."
   ]
  },
  {
   "cell_type": "code",
   "execution_count": 6,
   "metadata": {
    "collapsed": false
   },
   "outputs": [
    {
     "name": "stdout",
     "output_type": "stream",
     "text": [
      "<type 'numpy.ndarray'>\n",
      "ones1all\n",
      "[[ 1.  1.  1.]\n",
      " [ 1.  1.  1.]]\n",
      "len(ones1all)= 2\n",
      "ones1all.shape = (2L, 3L)\n"
     ]
    }
   ],
   "source": [
    "ones1all = np.ones((2, 3))\n",
    "print type(ones1all)\n",
    "print \"ones1all\\n\", ones1all\n",
    "print \"len(ones1all)=\",len(ones1all)\n",
    "print \"ones1all.shape =\",ones1all.shape"
   ]
  },
  {
   "cell_type": "markdown",
   "metadata": {},
   "source": [
    "Tретий способ — с помощью функции __`numpy.arange([start, ]stop, [step, ], ...)`__, которая создает одномерный массив последовательных чисел из промежутка __`[start, stop)`__ с заданным шагом __`step`__, и _метода_ __`array.reshape(shape)`__. \n",
    "\n",
    "Параметр __`shape`__, как и в предыдущем примере, задает размерность матрицы (кортеж чисел)."
   ]
  },
  {
   "cell_type": "code",
   "execution_count": 7,
   "metadata": {
    "collapsed": false
   },
   "outputs": [
    {
     "name": "stdout",
     "output_type": "stream",
     "text": [
      "<type 'numpy.ndarray'>\n",
      "v =\n",
      "[ 0  2  4  6  8 10 12 14 16 18 20 22]\n",
      "len(v)= 12\n",
      "v.shape = (12L,)\n",
      "--------------------------------------\n",
      "<type 'numpy.ndarray'>\n",
      "d2_6 =\n",
      "[[ 0  2  4  6  8 10]\n",
      " [12 14 16 18 20 22]]\n",
      "len(d2_6)= 2\n",
      "d2_6.shape = (2L, 6L)\n"
     ]
    }
   ],
   "source": [
    "v = np.arange(0, 24, 2)\n",
    "print type(v)\n",
    "print \"v =\\n\", v\n",
    "print \"len(v)=\",len(v)\n",
    "print \"v.shape =\",v.shape\n",
    "print \"--------------------------------------\"\n",
    "d2_6 = v.reshape((2,6))\n",
    "print type(d2_6)\n",
    "print \"d2_6 =\\n\",d2_6\n",
    "print \"len(d2_6)=\",len(d2_6)\n",
    "print \"d2_6.shape =\",d2_6.shape"
   ]
  },
  {
   "cell_type": "markdown",
   "metadata": {},
   "source": [
    "## 2. Индексирование"
   ]
  },
  {
   "cell_type": "markdown",
   "metadata": {},
   "source": [
    "Элемент на пересечении строки __`i`__ и столбца __`j`__ можно получить с помощью выражения __`array[i, j]`__. \n",
    "\n",
    "__Обратите внимание:__ строки и столбцы нумеруются с нуля!\n",
    "    \n",
    "Из матрицы можно получать целые строки или столбцы с помощью выражений __`array[i, :]`__ или __`array[:, j]`__ соответственно."
   ]
  },
  {
   "cell_type": "code",
   "execution_count": 8,
   "metadata": {
    "collapsed": false
   },
   "outputs": [
    {
     "name": "stdout",
     "output_type": "stream",
     "text": [
      "d2_6=\n",
      "[[ 0  2  4  6  8 10]\n",
      " [12 14 16 18 20 22]]\n",
      "d2_6[1, 3] = 18\n",
      "---------------------------\n",
      "d2_6[1, :] = [12 14 16 18 20 22]\n",
      "d2_6[:, 3] = [ 6 18]\n"
     ]
    }
   ],
   "source": [
    "print \"d2_6=\\n\", d2_6\n",
    "print \"d2_6[1, 3] =\", d2_6[1, 3]\n",
    "print \"---------------------------\"\n",
    "print \"d2_6[1, :] =\",d2_6[1, :]\n",
    "print \"d2_6[:, 3] =\", d2_6[:, 3]"
   ]
  },
  {
   "cell_type": "markdown",
   "metadata": {},
   "source": [
    "Еще один способ получения элементов — с помощью выражения __`array[list1, list2]`__, где __`list1`__, __`list2`__ — некоторые списки целых чисел. При такой адресации одновременно просматриваются оба списка и возвращаются элементы матрицы с соответствующими координатами. Следующий пример более понятно объясняет механизм работы такого индексирования:"
   ]
  },
  {
   "cell_type": "code",
   "execution_count": 9,
   "metadata": {
    "collapsed": false
   },
   "outputs": [
    {
     "name": "stdout",
     "output_type": "stream",
     "text": [
      "d2_6[[1, 0], [2, 5]] = [16 10]\n"
     ]
    }
   ],
   "source": [
    "print \"d2_6[[1, 0], [2, 5]] =\", d2_6[[1, 0], [2, 5]]"
   ]
  },
  {
   "cell_type": "markdown",
   "metadata": {},
   "source": [
    "## 3. Векторы, вектор-строки и вектор-столбцы"
   ]
  },
  {
   "cell_type": "markdown",
   "metadata": {},
   "source": [
    "Задание одномерного массива (то есть __вектора__) и двумерного массива:"
   ]
  },
  {
   "cell_type": "code",
   "execution_count": 10,
   "metadata": {
    "collapsed": false
   },
   "outputs": [
    {
     "name": "stdout",
     "output_type": "stream",
     "text": [
      "<type 'numpy.ndarray'>\n",
      "a = Vector = [1 2 3]\n",
      "len(a)= 3\n",
      "a.shape = (3L,)\n",
      "-----------------------------\n",
      "<type 'numpy.ndarray'>\n",
      "b =\n",
      "[[1]\n",
      " [2]\n",
      " [3]]\n",
      "len(b)= 3\n",
      "b.shape = (3L, 1L)\n"
     ]
    }
   ],
   "source": [
    "a = np.array([1, 2, 3])\n",
    "b = np.array([[1], [2], [3]])\n",
    "print type(a)\n",
    "print \"a = Vector =\", a\n",
    "print \"len(a)=\",len(a)\n",
    "print \"a.shape =\",a.shape\n",
    "print \"-----------------------------\"\n",
    "print type(b)\n",
    "print \"b =\\n\", b\n",
    "print \"len(b)=\",len(b)\n",
    "print \"b.shape =\",b.shape"
   ]
  },
  {
   "cell_type": "markdown",
   "metadata": {},
   "source": [
    "__Обратите внимание:__ __вектор__ (одномерный массив) и __вектор-столбец__ или __вектор-строка__ (двумерные массивы) являются различными объектами в `NumPy`, хотя математически задают один и тот же объект. В случае одномерного массива кортеж __`shape`__ состоит из одного числа и имеет вид __`(N,)`__, где __`N`__ — длина вектора. В случае двумерных векторов в __`shape`__ присутствует еще одна размерность, равная единице. \n",
    "\n",
    "В большинстве случаев неважно, какое представление использовать, потому что часто срабатывает приведение типов. Но некоторые операции не работают для одномерных массивов. Например, транспонирование (о нем пойдет речь ниже):"
   ]
  },
  {
   "cell_type": "code",
   "execution_count": 11,
   "metadata": {
    "collapsed": false
   },
   "outputs": [
    {
     "name": "stdout",
     "output_type": "stream",
     "text": [
      "<type 'numpy.ndarray'>\n",
      "a = Vector = [1 2 3]\n",
      "len(a)= 3\n",
      "a.shape = (3L,)\n",
      "-----------------------------\n",
      "aT = a.T = [1 2 3]\n",
      "len(aT)= 3\n",
      "Его размерность также не изменилась: aT.shape = (3L,)\n",
      "=============================\n",
      "<type 'numpy.ndarray'>\n",
      "b = \n",
      "[[1]\n",
      " [2]\n",
      " [3]]\n",
      "len(b)= 3\n",
      "b.shape = (3L, 1L)\n",
      "-----------------------------\n",
      "Транспонированный двумерный массив: bT = b.T =\n",
      "[[1 2 3]]\n",
      "len(bT)= 1\n",
      "Его размерность изменилась: bT.shape = (1L, 3L)\n"
     ]
    }
   ],
   "source": [
    "print type(a)\n",
    "print \"a = Vector =\", a\n",
    "print \"len(a)=\",len(a)\n",
    "print \"a.shape =\",a.shape\n",
    "print \"-----------------------------\"\n",
    "aT = a.T\n",
    "print \"aT = a.T =\", a.T\n",
    "print \"len(aT)=\",len(aT)\n",
    "print \"Его размерность также не изменилась: aT.shape =\",aT.shape\n",
    "print \"=============================\"\n",
    "print type(b)\n",
    "print \"b = \\n\", b\n",
    "print \"len(b)=\",len(b)\n",
    "print \"b.shape =\",b.shape\n",
    "print \"-----------------------------\"\n",
    "bT = b.T\n",
    "print \"Транспонированный двумерный массив: bT = b.T =\\n\", b.T\n",
    "print \"len(bT)=\",len(bT)\n",
    "print \"Его размерность изменилась: bT.shape =\",bT.shape\n"
   ]
  },
  {
   "cell_type": "markdown",
   "metadata": {},
   "source": [
    "## 4. Умножение матриц и столбцов\n",
    "\n",
    "Операция __умножения__ определена для двух матриц, таких что __число столбцов__ первой __== числу строк__ второй. \n",
    "\n",
    "Пусть матрицы $A$ и $B$ таковы, что $A \\in \\mathbb{R}^{n \\times k}$ и $B \\in \\mathbb{R}^{k \\times m}$. __Произведением__ матриц $A$ и $B$ называется матрица $C$, такая что $c_{ij} = \\sum_{r=1}^{k} a_{ir}b_{rj}$, где $c_{ij}$ — элемент матрицы $C$, стоящий на пересечении строки с номером $i$ и столбца с номером $j$.\n",
    "\n",
    "В `NumPy` произведение матриц вычисляется с помощью: \n",
    "1. _функции_ __`numpy.dot(matrix1, matrix2, ...)`__ или с помощью  \n",
    "2. _метода_ __`matrix1.dot(matrix2)`__, где __`matrix1`__ и __`matrix2`__ — перемножаемые матрицы.\n",
    "\n",
    "Умножение матрицы в на вектор:\n",
    "\n",
    "$$\n",
    "Matrix * Vector =\n",
    "\\overbrace{\n",
    "m\\left\\{\n",
    "\\begin{pmatrix}\n",
    "a_{11} & a_{12} & \\cdots & a_{1n} \\\\\n",
    "a_{21} & a_{22} & \\cdots & a_{2n} \\\\\n",
    "\\vdots & \\vdots & \\ddots & \\vdots \\\\\n",
    "a_{m1} & a_{m2} & \\cdots & a_{mn} \\\\\n",
    "\\end{pmatrix}\n",
    "\\right.\n",
    "}^{N * columns}\n",
    "\\left.\n",
    "\\begin{pmatrix}\n",
    "w_{1}\\\\\n",
    "w_{2}\\\\\n",
    "w_{3}\\\\\n",
    "w_{4}\\\\\n",
    "\\vdots\\\\\n",
    "w_{n-1}\\\\\n",
    "w_{n}\\\\\n",
    "\\end{pmatrix}\n",
    "\\right\\}^{N*raws}=\n",
    "\\begin{pmatrix}\n",
    "\\sum_{i-1}^{n}{a_{1i}w_i}\\\\\n",
    "\\sum_{i-1}^{n}{a_{2i}w_i}\\\\\n",
    "\\cdots\\\\\n",
    "\\sum_{i-1}^{n}{a_{mi}w_i}\\\\\n",
    "\\end{pmatrix}\n",
    "$$"
   ]
  },
  {
   "cell_type": "code",
   "execution_count": 12,
   "metadata": {
    "collapsed": false
   },
   "outputs": [
    {
     "name": "stdout",
     "output_type": "stream",
     "text": [
      "Матрица: b=\n",
      "[[4 3]\n",
      " [2 1]]\n",
      "len(b)= 2\n",
      "b.shape = (2L, 2L)\n",
      "-------------\n",
      "Вектор: c = [1 3]\n",
      "len(c)= 2\n",
      "c.shape = (2L,)\n",
      "------------------------------\n",
      "Результат умножения: r3 = b.dot(c)=\n",
      "[13  5]\n",
      "len(r3)= 2\n",
      "r3.shape = (2L,)\n"
     ]
    }
   ],
   "source": [
    "b = np.array([[4, 3], [2, 1]])\n",
    "print \"Матрица: b=\\n\", b\n",
    "print \"len(b)=\",len(b)\n",
    "print \"b.shape =\",b.shape\n",
    "print \"-------------\"\n",
    "c = np.array([1, 3])\n",
    "print \"Вектор: c =\", c\n",
    "print \"len(c)=\",len(c)\n",
    "print \"c.shape =\",c.shape\n",
    "print \"------------------------------\"\n",
    "r3 = b.dot(c)\n",
    "print \"Результат умножения: r3 = b.dot(c)=\\n\", r3\n",
    "print \"len(r3)=\",len(r3)\n",
    "print \"r3.shape =\",r3.shape"
   ]
  },
  {
   "cell_type": "markdown",
   "metadata": {},
   "source": [
    "$\n",
    "A =\n",
    "\\begin{pmatrix}\n",
    "1 & 2\\\\\n",
    "3 & 4\\\\\n",
    "5 & 6\\\\\n",
    "\\end{pmatrix}\n",
    "$, $B =\n",
    "\\begin{pmatrix}\n",
    "7 & -8 & 9\\\\\n",
    "-10 &11&-12\\\\\n",
    "\\end{pmatrix}\n",
    "$ Тогда их произведением будет:\n",
    "\n",
    "\n",
    "$\n",
    "A \\cdot B =\n",
    "\\begin{pmatrix}\n",
    "1\\cdot7+2\\cdot-10  & 1\\cdot-8+2\\cdot11  & 1\\cdot9+2\\cdot-12\\\\\n",
    "3\\cdot7+4\\cdot-10  & 3\\cdot-8+4\\cdot11  & 3\\cdot9+4\\cdot-12\\\\\n",
    "5\\cdot7+6\\cdot-10  & 5\\cdot-8+6\\cdot11  & 5\\cdot9+6\\cdot-12\\\\\n",
    "\\end{pmatrix}\n",
    "=\n",
    "\\begin{pmatrix}\n",
    "7 - 20 & -8+22   & 9 -24\\\\\n",
    "21-40  & -24+44  & 27 -48\\\\\n",
    "35-60  & -40+66  & 45-72\\\\\n",
    "\\end{pmatrix}\n",
    "=\n",
    "\\begin{pmatrix}\n",
    "-13 & 14  & -15\\\\\n",
    "-19 & 20  & -21\\\\\n",
    "-25 & 26  & -27\\\\\n",
    "\\end{pmatrix}\n",
    "$"
   ]
  },
  {
   "cell_type": "code",
   "execution_count": 13,
   "metadata": {
    "collapsed": false
   },
   "outputs": [
    {
     "name": "stdout",
     "output_type": "stream",
     "text": [
      "Матрица A:\n",
      "[[1 2]\n",
      " [3 4]\n",
      " [5 6]]\n",
      "Матрица B:\n",
      "[[  7  -8   9]\n",
      " [-10  11 -12]]\n",
      "Результат умножения функцией: np.dot(a, b) =\n",
      "[[-13  14 -15]\n",
      " [-19  20 -21]\n",
      " [-25  26 -27]]\n",
      "Результат умножения методом: a.dot(b)=\n",
      "[[-13  14 -15]\n",
      " [-19  20 -21]\n",
      " [-25  26 -27]]\n"
     ]
    }
   ],
   "source": [
    "a = np.array([[1, 2], [3, 4], [5, 6]])\n",
    "b = np.array([[7, -8, 9], [-10, 11,-12]])\n",
    "r1 = np.dot(a, b)\n",
    "r2 = a.dot(b)\n",
    "print \"Матрица A:\\n\", a\n",
    "print \"Матрица B:\\n\", b\n",
    "print \"Результат умножения функцией: np.dot(a, b) =\\n\", r1\n",
    "print \"Результат умножения методом: a.dot(b)=\\n\", r2"
   ]
  },
  {
   "cell_type": "markdown",
   "metadata": {
    "collapsed": false
   },
   "source": [
    "$\n",
    "C =\n",
    "\\begin{pmatrix}\n",
    "6 & 5\\\\\n",
    "4 & 3\\\\\n",
    "2 & 1\\\\\n",
    "\\end{pmatrix}\n",
    "$, $D =\n",
    "\\begin{pmatrix}\n",
    "7 & -8 & 9 &-10\\\\\n",
    "-11 &12&-13& 14\\\\\n",
    "\\end{pmatrix}\n",
    "$ Тогда их произведением будет:\n",
    "\n",
    "$\n",
    "C \\cdot D =\n",
    "\\begin{pmatrix}\n",
    "6\\cdot7+5\\cdot-11  & 6\\cdot-8+5\\cdot12  & 6\\cdot9+5\\cdot-13 & 6\\cdot-10+5\\cdot14\\\\\n",
    "4\\cdot7+3\\cdot-11  & 4\\cdot-8+3\\cdot12  & 4\\cdot9+3\\cdot-13 & 4\\cdot-10+3\\cdot14\\\\\n",
    "2\\cdot7+1\\cdot-11  & 2\\cdot-8+1\\cdot12  & 2\\cdot9+1\\cdot-13 & 2\\cdot-10+1\\cdot14\\\\\n",
    "\\end{pmatrix}\n",
    "=\n",
    "\\begin{pmatrix}\n",
    "42 -55  & -48 +60  & 54-65 & -60+70\\\\\n",
    "28 -33  & -32 +36  & 36-39 & -40+42\\\\\n",
    "14 -11  & -16 +12  & 18-13 & -20+14\\\\\n",
    "\\end{pmatrix}\n",
    "=\n",
    "\\begin{pmatrix}\n",
    "-13& 12 & -11&10\\\\\n",
    "-5 & 4  & -3 &2\\\\\n",
    "3  & -4 & 5  &-6\\\\\n",
    "\\end{pmatrix}\n",
    "$"
   ]
  },
  {
   "cell_type": "code",
   "execution_count": 17,
   "metadata": {
    "collapsed": false
   },
   "outputs": [
    {
     "name": "stdout",
     "output_type": "stream",
     "text": [
      "Матрица C:\n",
      "[[6 5]\n",
      " [4 3]\n",
      " [2 1]]\n",
      "Матрица D:\n",
      "[[  7  -8   9 -10]\n",
      " [-11  12 -13  14]]\n",
      "Результат умножения методом: C.dot(D)=\n",
      "[[-13  12 -11  10]\n",
      " [ -5   4  -3   2]\n",
      " [  3  -4   5  -6]]\n"
     ]
    }
   ],
   "source": [
    "C = np.array([[6, 5], [4, 3], [2, 1]])\n",
    "D = np.array([[7, -8, 9, -10], [-11, 12, -13, 14]])\n",
    "r2 = c.dot(d)\n",
    "print \"Матрица C:\\n\", C\n",
    "print \"Матрица D:\\n\", D\n",
    "print \"Результат умножения методом: C.dot(D)=\\n\", r2"
   ]
  },
  {
   "cell_type": "markdown",
   "metadata": {},
   "source": [
    "__Обратите внимание:__ операция __`*`__ производит над матрицами покоординатное умножение, а не матричное!"
   ]
  },
  {
   "cell_type": "code",
   "execution_count": 54,
   "metadata": {
    "collapsed": false
   },
   "outputs": [
    {
     "name": "stdout",
     "output_type": "stream",
     "text": [
      "Матрица A:\n",
      "[[1 0]\n",
      " [0 1]]\n",
      "Матрица B:\n",
      "[[4 1]\n",
      " [2 2]]\n",
      "Результат покоординатного умножения через операцию *:\n",
      "[[4 0]\n",
      " [0 2]]\n"
     ]
    }
   ],
   "source": [
    "a = np.array([[1, 0], [0, 1]])\n",
    "b = np.array([[4, 1], [2, 2]])\n",
    "print \"Матрица A:\\n\", a\n",
    "print \"Матрица B:\\n\", b\n",
    "r = a * b\n",
    "print \"Результат покоординатного умножения через операцию *:\\n\", r"
   ]
  },
  {
   "cell_type": "markdown",
   "metadata": {},
   "source": [
    "## 5. Транспонирование матриц\n",
    "\n",
    "__Транспонированной матрицей__ $A^{T}$ называется матрица, полученная из исходной матрицы $A$ заменой строк на столбцы. Формально: элементы матрицы $A^{T}$ определяются как $a^{T}_{ij} = a_{ji}$, где $a^{T}_{ij}$ — элемент матрицы $A^{T}$, стоящий на пересечении строки с номером $i$ и столбца с номером $j$.\n",
    "\n",
    "В `NumPy` транспонированная матрица вычисляется с помощью \n",
    "1. __функции__ __`numpy.transpose()`__ или с помощью \n",
    "2. __метода__ __`array.T`__, где __`array`__ — нужный двумерный массив.\n"
   ]
  },
  {
   "cell_type": "code",
   "execution_count": 55,
   "metadata": {
    "collapsed": false
   },
   "outputs": [
    {
     "name": "stdout",
     "output_type": "stream",
     "text": [
      "Матрица: a=\n",
      "[[1 2]\n",
      " [3 4]\n",
      " [5 6]]\n",
      "len(a)= 3\n",
      "a.shape = (3L, 2L)\n",
      "-------------------\n",
      "Транспонирование функцией: b = np.transpose(a)=\n",
      "[[1 3 5]\n",
      " [2 4 6]]\n",
      "len(b)= 2\n",
      "b.shape = (2L, 3L)\n",
      "-------------------\n",
      "Транспонирование методом: c = a.T=\n",
      "[[1 3 5]\n",
      " [2 4 6]]\n",
      "len(c)= 2\n",
      "c.shape = (2L, 3L)\n"
     ]
    }
   ],
   "source": [
    "a = np.array([[1, 2], [3, 4], [5,6]])\n",
    "print \"Матрица: a=\\n\", a\n",
    "print \"len(a)=\",len(a)\n",
    "print \"a.shape =\",a.shape\n",
    "print \"-------------------\"\n",
    "b = np.transpose(a)\n",
    "print \"Транспонирование функцией: b = np.transpose(a)=\\n\", b\n",
    "print \"len(b)=\",len(b)\n",
    "print \"b.shape =\",b.shape\n",
    "print \"-------------------\"\n",
    "c = a.T\n",
    "print \"Транспонирование методом: c = a.T=\\n\", c\n",
    "print \"len(c)=\",len(c)\n",
    "print \"c.shape =\",c.shape"
   ]
  },
  {
   "cell_type": "markdown",
   "metadata": {},
   "source": [
    "## 6. Определитель матрицы\n",
    "__ Для квадратных матриц существует понятие __определителя__.\n",
    "\n",
    "Пусть $A$ — квадратная матрица. __Определителем__ (или __детерминантом__) матрицы $A \\in \\mathbb{R}^{n \\times n}$ назовем число \n",
    "\n",
    "$$\\det A = \\sum_{\\alpha_{1}, \\alpha_{2}, \\dots, \\alpha_{n}} (-1)^{N(\\alpha_{1}, \\alpha_{2}, \\dots, \\alpha_{n})} \\cdot a_{\\alpha_{1} 1} \\cdot \\cdot \\cdot a_{\\alpha_{n} n},\n",
    "$$\n",
    "где $\\alpha_{1}, \\alpha_{2}, \\dots, \\alpha_{n}$ — перестановка чисел от $1$ до $n$, $N(\\alpha_{1}, \\alpha_{2}, \\dots, \\alpha_{n})$ — число инверсий в перестановке, суммирование ведется по всем возможным перестановкам длины $n$.\n",
    "\n",
    "_Не стоит расстраиваться, если это определение понятно не до конца — в дальнейшем в таком виде оно не понадобится._\n",
    "\n",
    "Например, для матрицы размера $2 \\times 2$ получается:\n",
    "\n",
    "$$\\det \\left( \\begin{array}{cc} a_{11} & a_{12} \\\\ a_{21} & a_{22}  \\end{array} \\right) = a_{11} a_{22} - a_{12} a_{21}\n",
    "$$\n",
    "\n",
    "\n",
    "Вычисление определителя матрицы по определению требует порядка $n!$ операций, поэтому разработаны методы, которые позволяют вычислять его быстро и эффективно.\n",
    "\n",
    "В `NumPy` определитель матрицы вычисляется с помощью функции __`numpy.linalg.det(a)`__, где __`a`__ — исходная матрица."
   ]
  },
  {
   "cell_type": "code",
   "execution_count": 56,
   "metadata": {
    "collapsed": false
   },
   "outputs": [
    {
     "name": "stdout",
     "output_type": "stream",
     "text": [
      "Матрица:\n",
      "[[ 1.  2.  1.]\n",
      " [ 1.  1.  4.]\n",
      " [ 2.  3.  6.]]\n",
      "len(a)= 3\n",
      "a.shape = (3L, 3L)\n",
      "Определитель: det = np.linalg.det(a) = -1.0\n",
      "det.shape = ()\n"
     ]
    }
   ],
   "source": [
    "a = np.array([[1, 2, 1], [1, 1, 4], [2, 3, 6]], dtype=np.float32)\n",
    "print \"Матрица:\\n\", a\n",
    "print \"len(a)=\",len(a)\n",
    "print \"a.shape =\",a.shape\n",
    "det = np.linalg.det(a)\n",
    "print \"Определитель: det = np.linalg.det(a) =\", det\n",
    "#print \"len(det)=\",len(det)\n",
    "#TypeError: object of type 'numpy.float32' has no len()\n",
    "print \"det.shape =\",det.shape"
   ]
  },
  {
   "cell_type": "markdown",
   "metadata": {},
   "source": [
    "Рассмотрим одно интересное свойство определителя. Пусть у нас есть параллелограмм с углами в точках $(0, 0), (c,d), (a+c, b+d), (a, b)$ (углы даны в порядке обхода по часовой стрелке). Тогда площадь этого параллелограмма можно вычислить как модуль определителя матрицы $\\left( \\begin{array}{cc} a & c \\\\ b & d  \\end{array} \\right)$. Похожим образом можно выразить и объем параллелепипеда через определитель матрицы размера $3 \\times 3$."
   ]
  },
  {
   "cell_type": "markdown",
   "metadata": {},
   "source": [
    "## 7. Ранг матрицы\n",
    "\n",
    "__Рангом матрицы__ $A$ называется максимальное число линейно независимых строк (столбцов) этой матрицы.\n",
    "\n",
    "В `NumPy` ранг матрицы вычисляется с помощью функции __`numpy.linalg.matrix_rank(M, tol=None)`__, где __`M`__ — матрица, __`tol`__ — параметр, отвечающий за некоторую точность вычисления. В простом случае можно его не задавать, и функция сама определит подходящее значение этого параметра."
   ]
  },
  {
   "cell_type": "code",
   "execution_count": 57,
   "metadata": {
    "collapsed": false
   },
   "outputs": [
    {
     "name": "stdout",
     "output_type": "stream",
     "text": [
      "Матрица:\n",
      "[[1 2 3]\n",
      " [1 1 1]\n",
      " [2 2 2]]\n",
      "Ранг матрицы: 2\n"
     ]
    }
   ],
   "source": [
    "a = np.array([[1, 2, 3], [1, 1, 1], [2, 2, 2]])\n",
    "r = np.linalg.matrix_rank(a)\n",
    "print \"Матрица:\\n\", a\n",
    "print \"Ранг матрицы:\", r"
   ]
  },
  {
   "cell_type": "markdown",
   "metadata": {},
   "source": [
    "С помощью вычисления ранга матрицы можно проверять линейную независимость системы векторов.\n",
    "\n",
    "Допустим, у нас есть несколько векторов. Составим из них матрицу, где наши векторы будут являться строками. Понятно, что векторы линейно независимы тогда и только тогда, когда ранг полученной матрицы совпадает с числом векторов. Приведем пример:"
   ]
  },
  {
   "cell_type": "code",
   "execution_count": 58,
   "metadata": {
    "collapsed": false
   },
   "outputs": [
    {
     "name": "stdout",
     "output_type": "stream",
     "text": [
      "Матрица:\n",
      "[[1 2 3]\n",
      " [1 1 1]\n",
      " [2 3 5]]\n",
      "Ранг матрицы: 3\n",
      "True\n",
      "Матрица:\n",
      "[[1 2 3]\n",
      " [1 1 1]\n",
      " [2 2 2]]\n",
      "Ранг матрицы: 2\n",
      "False\n"
     ]
    }
   ],
   "source": [
    "a = np.array([1, 2, 3])\n",
    "b = np.array([1, 1, 1])\n",
    "c = np.array([2, 3, 5])\n",
    "m = np.array([a, b, c])\n",
    "print \"Матрица:\\n\", m\n",
    "r = np.linalg.matrix_rank(m)\n",
    "print \"Ранг матрицы:\", r\n",
    "print np.linalg.matrix_rank(m) == m.shape[0]\n",
    "a = np.array([1, 2, 3])\n",
    "b = np.array([1, 1, 1])\n",
    "c = np.array([2, 2, 2])\n",
    "m = np.array([a, b, c])\n",
    "print \"Матрица:\\n\", m\n",
    "r = np.linalg.matrix_rank(m)\n",
    "print \"Ранг матрицы:\", r\n",
    "print np.linalg.matrix_rank(m) == m.shape[0]"
   ]
  },
  {
   "cell_type": "markdown",
   "metadata": {},
   "source": [
    "## 8. Системы линейных уравнений\n",
    "\n",
    "__Системой линейных алгебраических уравнений__ называется система вида $$Ax = b$$, где $A \\in \\mathbb{R}^{n \\times m}, x \\in \\mathbb{R}^{m \\times 1}, b \\in \\mathbb{R}^{n \\times 1}$. В случае квадратной невырожденной матрицы $A$ решение системы единственно.\n",
    "\n",
    "В `NumPy` решение такой системы можно найти с помощью функции __`numpy.linalg.solve(Matrix, Vector)`__, где первый аргумент — матрица $Matrix$, второй — столбец $Vector$."
   ]
  },
  {
   "cell_type": "code",
   "execution_count": 59,
   "metadata": {
    "collapsed": false
   },
   "outputs": [
    {
     "name": "stdout",
     "output_type": "stream",
     "text": [
      "Матрица matrix_A:\n",
      "[[3 1]\n",
      " [1 2]]\n",
      "len(matrix_A)= 2\n",
      "matrix_A.shape = (2L, 2L)\n",
      "-------------------------\n",
      "Вектор vector_V: [9 8]\n",
      "len(vector_V)= 2\n",
      "vector_V.shape = (2L,)\n",
      "-------------------------\n",
      "Решение системы: X = [ 2.  3.]\n",
      "len(X)= 2\n",
      "X.shape = (2L,)\n"
     ]
    }
   ],
   "source": [
    "matrix_A = np.array([[3, 1], [1, 2]])\n",
    "print \"Матрица matrix_A:\\n\", matrix_A\n",
    "print \"len(matrix_A)=\",len(matrix_A)\n",
    "print \"matrix_A.shape =\",matrix_A.shape\n",
    "print \"-------------------------\"\n",
    "vector_V = np.array([9, 8])\n",
    "print \"Вектор vector_V:\", vector_V\n",
    "print \"len(vector_V)=\",len(vector_V)\n",
    "print \"vector_V.shape =\",vector_V.shape\n",
    "print \"-------------------------\"\n",
    "X = np.linalg.solve(matrix_A, vector_V)\n",
    "print \"Решение системы: X =\", X\n",
    "print \"len(X)=\",len(X)\n",
    "print \"X.shape =\",X.shape"
   ]
  },
  {
   "cell_type": "markdown",
   "metadata": {},
   "source": [
    "Убедимся, что вектор __x__ действительно является решением системы:"
   ]
  },
  {
   "cell_type": "code",
   "execution_count": 60,
   "metadata": {
    "collapsed": false
   },
   "outputs": [
    {
     "name": "stdout",
     "output_type": "stream",
     "text": [
      "[ 9.  8.]\n"
     ]
    }
   ],
   "source": [
    "print matrix_A.dot(X)"
   ]
  },
  {
   "cell_type": "code",
   "execution_count": 61,
   "metadata": {
    "collapsed": false
   },
   "outputs": [
    {
     "name": "stdout",
     "output_type": "stream",
     "text": [
      "a =\n",
      "[[ 3  2  0]\n",
      " [ 1 -1  0]\n",
      " [ 0  5  1]] <type 'numpy.ndarray'>\n",
      "(3L, 3L)\n",
      "b = [ 2  4 -1] <type 'numpy.ndarray'>\n",
      "(3L,)\n",
      "-----------------------------\n",
      "np.dot(a, b) = [14 -2 19]\n",
      "np.dot(b, a) = [10 -5 -1]\n",
      "-----------------------------\n",
      "x = linalg.solve(a, b) = [ 2. -2.  9.]\n",
      "-----------------------------\n",
      "np.dot(a, x) = [ 2.  4. -1.]\n"
     ]
    }
   ],
   "source": [
    "import numpy as np\n",
    "from scipy import linalg\n",
    "\n",
    "a = np.array([[3, 2, 0], [1, -1, 0], [0, 5, 1]])\n",
    "print \"a =\\n\",a, type(a)\n",
    "print a.shape\n",
    "b = np.array([2, 4, -1])\n",
    "print \"b =\",b, type(b)\n",
    "print b.shape\n",
    "print \"-----------------------------\"\n",
    "print \"np.dot(a, b) =\", np.dot(a, b)\n",
    "print \"np.dot(b, a) =\", np.dot(b, a)\n",
    "print \"-----------------------------\"\n",
    "x = linalg.solve(a, b)\n",
    "print \"x = linalg.solve(a, b) =\",x\n",
    "print \"-----------------------------\"\n",
    "print \"np.dot(a, x) =\",np.dot(a, x)"
   ]
  },
  {
   "cell_type": "markdown",
   "metadata": {},
   "source": [
    "Бывают случаи, когда решение системы не существует. Но хотелось бы все равно \"решить\" такую систему. Логичным кажется искать такой вектор $x$, который минимизирует выражение $\\left\\Vert Ax - b\\right\\Vert^{2}$ — так мы приблизим выражение $Ax$ к $b$.\n",
    "\n",
    "В `NumPy` такое псевдорешение можно искать с помощью функции __`numpy.linalg.lstsq(a, b, ...)`__, где первые два аргумента такие же, как и для функции __`numpy.linalg.solve()`__. \n",
    "Помимо решения функция возвращает еще три значения, которые нам сейчас не понадобятся."
   ]
  },
  {
   "cell_type": "code",
   "execution_count": 62,
   "metadata": {
    "collapsed": false
   },
   "outputs": [
    {
     "name": "stdout",
     "output_type": "stream",
     "text": [
      "Матрица A:\n",
      "[[0 1]\n",
      " [1 1]\n",
      " [2 1]\n",
      " [3 1]]\n",
      "Вектор b:\n",
      "[-1.   0.2  0.9  2.1]\n",
      "Псевдорешение системы:\n",
      "[ 1.   -0.95]\n"
     ]
    }
   ],
   "source": [
    "a = np.array([[0, 1], [1, 1], [2, 1], [3, 1]])\n",
    "print \"Матрица A:\\n\", a\n",
    "b = np.array([-1, 0.2, 0.9, 2.1])\n",
    "print \"Вектор b:\\n\", b\n",
    "x, res, r, s = np.linalg.lstsq(a, b)\n",
    "print \"Псевдорешение системы:\\n\", x"
   ]
  },
  {
   "cell_type": "markdown",
   "metadata": {},
   "source": [
    "## 9. Обращение матриц\n",
    "\n",
    "Для квадратных невырожденных матриц определено понятие __обратной__ матрицы. \n",
    "\n",
    "Пусть $A$ — квадратная невырожденная матрица. Матрица $A^{-1}$ называется __обратной матрицей__ к $A$, если \n",
    "\n",
    "$$AA^{-1} = A^{-1}A = I,\n",
    "$$ \n",
    "\n",
    "где $I$ — единичная матрица.\n",
    "\n",
    "В `NumPy` обратные матрицы вычисляются с помощью функции __`numpy.linalg.inv(a)`__, где __`a`__ — исходная матрица."
   ]
  },
  {
   "cell_type": "code",
   "execution_count": 63,
   "metadata": {
    "collapsed": false
   },
   "outputs": [
    {
     "name": "stdout",
     "output_type": "stream",
     "text": [
      "Матрица A:\n",
      "[[ 1.  2.  1.]\n",
      " [ 1.  1.  4.]\n",
      " [ 2.  3.  6.]]\n",
      "Обратная матрица к A:\n",
      "[[ 6.  9. -7.]\n",
      " [-2. -4.  3.]\n",
      " [-1. -1.  1.]]\n",
      "Произведение A на обратную должна быть единичной: a.dot(b)=\n",
      "[[ 1.  0.  0.]\n",
      " [ 0.  1.  0.]\n",
      " [ 0.  0.  1.]]\n"
     ]
    }
   ],
   "source": [
    "a = np.array([[1, 2, 1], [1, 1, 4], [2, 3, 6]], dtype=np.float32)\n",
    "print \"Матрица A:\\n\", a\n",
    "b = np.linalg.inv(a)\n",
    "print \"Обратная матрица к A:\\n\", b\n",
    "print \"Произведение A на обратную должна быть единичной: a.dot(b)=\\n\", a.dot(b)\n"
   ]
  },
  {
   "cell_type": "markdown",
   "metadata": {},
   "source": [
    "## 10. Собственные числа и собственные вектора матрицы\n",
    "\n",
    "Для квадратных матриц определены понятия __собственного вектора__ и __собственного числа__.\n",
    "\n",
    "Пусть $A$ — квадратная матрица и $A \\in \\mathbb{R}^{n \\times n}$. __Собственным вектором__ матрицы $A$ называется такой ненулевой вектор $x \\in \\mathbb{R}^{n}$, что для некоторого $\\lambda \\in \\mathbb{R}$ выполняется равенство $Ax = \\lambda x$. При этом $\\lambda$ называется __собственным числом__ матрицы $A$. Собственные числа и собственные векторы матрицы играют важную роль в теории линейной алгебры и ее практических приложениях.\n",
    "\n",
    "В `NumPy` собственные числа и собственные векторы матрицы вычисляются с помощью функции __`numpy.linalg.eig(a)`__, где __`a`__ — исходная матрица. В качестве результата эта функция выдает одномерный массив __`w`__ собственных чисел и двумерный массив __`v`__, в котором по столбцам записаны собственные вектора, так что вектор __`v[:, i]`__ соотвествует собственному числу __`w[i]`__."
   ]
  },
  {
   "cell_type": "code",
   "execution_count": 64,
   "metadata": {
    "collapsed": false
   },
   "outputs": [
    {
     "name": "stdout",
     "output_type": "stream",
     "text": [
      "Матрица A:\n",
      "[[-1 -6]\n",
      " [ 2  6]]\n",
      "Собственные числа: np.linalg.eig(a) =  [ 2.  3.]\n",
      "Собственные векторы: np.linalg.eig(a) =\n",
      "[[-0.89442719  0.83205029]\n",
      " [ 0.4472136  -0.5547002 ]]\n"
     ]
    }
   ],
   "source": [
    "a = np.array([[-1, -6], [2, 6]])\n",
    "print \"Матрица A:\\n\", a\n",
    "w, v = np.linalg.eig(a)\n",
    "print \"Собственные числа: np.linalg.eig(a) = \", w\n",
    "print \"Собственные векторы: np.linalg.eig(a) =\\n\", v"
   ]
  }
 ],
 "metadata": {
  "anaconda-cloud": {},
  "kernelspec": {
   "display_name": "Python [default]",
   "language": "python",
   "name": "python2"
  },
  "language_info": {
   "codemirror_mode": {
    "name": "ipython",
    "version": 2
   },
   "file_extension": ".py",
   "mimetype": "text/x-python",
   "name": "python",
   "nbconvert_exporter": "python",
   "pygments_lexer": "ipython2",
   "version": "2.7.12"
  }
 },
 "nbformat": 4,
 "nbformat_minor": 1
}
